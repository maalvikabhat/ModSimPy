{
 "cells": [
  {
   "cell_type": "code",
   "execution_count": 3,
   "metadata": {},
   "outputs": [],
   "source": [
    "#/The goal of this model project is to show the indent in the population\n",
    "##if treatment for heart diseases was not available in the United States.from\n",
    "from modsim import *\n",
    "\n"
   ]
  },
  {
   "cell_type": "code",
   "execution_count": 4,
   "metadata": {},
   "outputs": [],
   "source": [
    "#in millions\n",
    "#US population was at 325.7 million in 2017\n",
    "#84 million people suffer from coronary heart disease annually\n",
    "\n",
    "US = System(birth_rate = .125, t_0 = 2017, t_end = 2050,\n",
    "           w_treatment = 960, wo_treatment = 1049, popt_0 = 325.7*(10**6),\n",
    "           death_rate = -0.082)\n",
    "#init = State(p = popt_0)"
   ]
  },
  {
   "cell_type": "code",
   "execution_count": 5,
   "metadata": {},
   "outputs": [],
   "source": [
    "def run_simulation(system):\n",
    "    treated = TimeSeries()\n",
    "    untreated = TimeSeries()\n",
    "    results = TimeSeries()\n",
    "    \n",
    "    treated[system.t_0] = system.popt_0\n",
    "    untreated[system.t_0] = system.popt_0\n",
    "    \n",
    "    #for t in linrange (system.t_0, system.t_end):\n",
    "        #treated[t+1] = treated[t] - system.w_treatment*365.25\n",
    "        #untreated[t+1] = untreated[t] - system.wo_treatment*365.25 - system.w_treatment\n",
    "    \n",
    "    \n",
    "    #this is population without without our model\n",
    "    for t in linrange (system.t_0, system.t_end): \n",
    "        treated[t+1] = treated[t] \n",
    "        untreated[t+1] = untreated[t] \n",
    "        \n",
    "    net_growth = treated[t]*system.birth_rate + treated[t]*system.death_rate\n",
    "    net_growth2 = untreated[t]*system.birth_rate + untreated[t]*system.death_rate\n",
    "    \n",
    "    treated = treated+net_growth\n",
    "    untreated = untreated+net_growth2\n",
    "    \n",
    "    return treated, untreated\n",
    "        \n",
    "def plot_results(timeseries, timeseries2, title):\n",
    "    plot(timeseries, ':', label = 'treated')\n",
    "    plot(timeseries2, '--', label = 'untreated')\n",
    "    decorate(xlabel = 'Year', \n",
    "             ylabel = 'Population',\n",
    "             title = title)"
   ]
  },
  {
   "cell_type": "code",
   "execution_count": 6,
   "metadata": {},
   "outputs": [
    {
     "data": {
      "image/png": "[encoded data removed]",
      "text/plain": [
       "<Figure size 432x288 with 1 Axes>"
      ]
     },
     "metadata": {
      "needs_background": "light"
     },
     "output_type": "display_data"
    }
   ],
   "source": [
    "orig, model  = run_simulation(US)\n",
    "\n",
    "run_simulation(US)\n",
    "plot_results(orig, model, 'Population Without Treatment for Heart Disease')\n"
   ]
  },
  {
   "cell_type": "code",
   "execution_count": null,
   "metadata": {},
   "outputs": [],
   "source": []
  }
 ],
 "metadata": {
  "kernelspec": {
   "display_name": "Python 3",
   "language": "python",
   "name": "python3"
  },
  "language_info": {
   "codemirror_mode": {
    "name": "ipython",
    "version": 3
   },
   "file_extension": ".py",
   "mimetype": "text/x-python",
   "name": "python",
   "nbconvert_exporter": "python",
   "pygments_lexer": "ipython3",
   "version": "3.6.5"
  }
 },
 "nbformat": 4,
 "nbformat_minor": 2
}
