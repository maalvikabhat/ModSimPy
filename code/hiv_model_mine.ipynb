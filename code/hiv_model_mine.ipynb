{
 "cells": [
  {
   "cell_type": "markdown",
   "metadata": {},
   "source": [
    "# Modeling and Simulation in Python\n",
    "\n",
    "HIV Model\n",
    "Maalvika Bhat\n",
    "\n",
    "License: [Creative Commons Attribution 4.0 International](https://creativecommons.org/licenses/by/4.0)"
   ]
  },
  {
   "cell_type": "code",
   "execution_count": 12,
   "metadata": {},
   "outputs": [],
   "source": [
    "# Configure Jupyter so figures appear in the notebook\n",
    "%matplotlib inline\n",
    "\n",
    "# Configure Jupyter to display the assigned value after an assignment\n",
    "%config InteractiveShell.ast_node_interactivity='last_expr_or_assign'\n",
    "\n",
    "# import functions from the modsim.py module\n",
    "from modsim import *"
   ]
  },
  {
   "cell_type": "markdown",
   "metadata": {},
   "source": [
    "Making System"
   ]
  },
  {
   "cell_type": "code",
   "execution_count": 13,
   "metadata": {},
   "outputs": [
    {
     "data": {
      "text/html": [
       "<div>\n",
       "<style scoped>\n",
       "    .dataframe tbody tr th:only-of-type {\n",
       "        vertical-align: middle;\n",
       "    }\n",
       "\n",
       "    .dataframe tbody tr th {\n",
       "        vertical-align: top;\n",
       "    }\n",
       "\n",
       "    .dataframe thead th {\n",
       "        text-align: right;\n",
       "    }\n",
       "</style>\n",
       "<table border=\"1\" class=\"dataframe\">\n",
       "  <thead>\n",
       "    <tr style=\"text-align: right;\">\n",
       "      <th></th>\n",
       "      <th>values</th>\n",
       "    </tr>\n",
       "  </thead>\n",
       "  <tbody>\n",
       "    <tr>\n",
       "      <th>init</th>\n",
       "      <td>R    200\n",
       "L      0\n",
       "E      0\n",
       "V    100\n",
       "dtype: int64</td>\n",
       "    </tr>\n",
       "    <tr>\n",
       "      <th>gamma</th>\n",
       "      <td>1.36</td>\n",
       "    </tr>\n",
       "    <tr>\n",
       "      <th>tau</th>\n",
       "      <td>0.2</td>\n",
       "    </tr>\n",
       "    <tr>\n",
       "      <th>mu</th>\n",
       "      <td>0.00136</td>\n",
       "    </tr>\n",
       "    <tr>\n",
       "      <th>beta</th>\n",
       "      <td>0.00027</td>\n",
       "    </tr>\n",
       "    <tr>\n",
       "      <th>delta</th>\n",
       "      <td>0.33</td>\n",
       "    </tr>\n",
       "    <tr>\n",
       "      <th>alpha</th>\n",
       "      <td>0.036</td>\n",
       "    </tr>\n",
       "    <tr>\n",
       "      <th>rho</th>\n",
       "      <td>0.1</td>\n",
       "    </tr>\n",
       "    <tr>\n",
       "      <th>sigma</th>\n",
       "      <td>2</td>\n",
       "    </tr>\n",
       "    <tr>\n",
       "      <th>pi</th>\n",
       "      <td>100</td>\n",
       "    </tr>\n",
       "    <tr>\n",
       "      <th>t_0</th>\n",
       "      <td>0</td>\n",
       "    </tr>\n",
       "    <tr>\n",
       "      <th>t_end</th>\n",
       "      <td>120</td>\n",
       "    </tr>\n",
       "    <tr>\n",
       "      <th>dt</th>\n",
       "      <td>0.2</td>\n",
       "    </tr>\n",
       "  </tbody>\n",
       "</table>\n",
       "</div>"
      ],
      "text/plain": [
       "init     R    200\n",
       "L      0\n",
       "E      0\n",
       "V    100\n",
       "dtype: int64\n",
       "gamma                                                1.36\n",
       "tau                                                   0.2\n",
       "mu                                                0.00136\n",
       "beta                                              0.00027\n",
       "delta                                                0.33\n",
       "alpha                                               0.036\n",
       "rho                                                   0.1\n",
       "sigma                                                   2\n",
       "pi                                                    100\n",
       "t_0                                                     0\n",
       "t_end                                                 120\n",
       "dt                                                    0.2\n",
       "dtype: object"
      ]
     },
     "execution_count": 13,
     "metadata": {},
     "output_type": "execute_result"
    }
   ],
   "source": [
    "init = State(R = 200, \n",
    "             L = 0, \n",
    "             E = 0, \n",
    "             V = 100)\n",
    "system = System(init = init, \n",
    "                gamma = 1.36, \n",
    "                tau = .2, \n",
    "                mu = .00136, \n",
    "                beta = .00027, \n",
    "                delta = .33, \n",
    "                alpha = .036, \n",
    "                rho = .1, \n",
    "                sigma = 2, \n",
    "                pi = 100, \n",
    "                t_0 = 0, \n",
    "                t_end = 120, \n",
    "                dt = 0.2)"
   ]
  },
  {
   "cell_type": "code",
   "execution_count": 14,
   "metadata": {},
   "outputs": [],
   "source": [
    "def update_func(init, system):\n",
    "    r, l, e, v = init\n",
    "    \n",
    "    deltaR = ((system.gamma * system.tau) - (system.mu * r) - (system.beta * r * v))*system.dt\n",
    "    deltaL = ((system.rho * system.beta * r * v) - (system.mu * l) - (system.alpha * l))*system.dt\n",
    "    deltaE = (((1 - system.rho) * system.beta * r * v) + (system.alpha * l) - (system.delta * e))*system.dt\n",
    "    deltaV = ((system.pi * e) - (system.sigma * v))*system.dt\n",
    "    \n",
    "    r += deltaR \n",
    "    l += deltaL\n",
    "    e += deltaE\n",
    "    v += deltaV\n",
    "    \n",
    "    return State(R = r, L = l, E = e, V = v)"
   ]
  },
  {
   "cell_type": "code",
   "execution_count": 15,
   "metadata": {},
   "outputs": [],
   "source": [
    "def slope_func(init, t0, system):\n",
    "    r, l, e, v = init\n",
    "    \n",
    "    deltaR = ((system.gamma * system.tau) - (system.mu * r) - (system.beta * r * v))\n",
    "    deltaL = ((system.rho * system.beta * r * v) - (system.mu * l) - (system.alpha * l))\n",
    "    deltaE = (((1 - system.rho) * system.beta * r * v) + (system.alpha * l) - (system.delta * e))\n",
    "    deltaV = ((system.pi * e) - (system.sigma * v))\n",
    "    \n",
    "    return deltaR, deltaL, deltaE, deltaV"
   ]
  },
  {
   "cell_type": "code",
   "execution_count": 16,
   "metadata": {},
   "outputs": [],
   "source": [
    "def runSimulation(system, state, update_func):#takes in system state and update_func\n",
    "    frame = TimeFrame(columns = state.index)\n",
    "    frame.row[system.t_0] = state #assigns first time step to initial state\n",
    "    \n",
    "    for i in linrange(system.t_0, system.t_end):\n",
    "        frame.row[i+1] = update_func(frame.row[i], system) #updates the state and takes the last state into update_func\n",
    "    print(frame)\n",
    "    return frame #returns the timeframe"
   ]
  },
  {
   "cell_type": "code",
   "execution_count": 17,
   "metadata": {},
   "outputs": [],
   "source": [
    "def plotData(R, L, E, V, ode): #plots R, L, E\n",
    "    plot(R, label = \"R\")\n",
    "    plot(L, label = \"L\")\n",
    "    plot(E, label = \"E\")\n",
    "    if ode: #because of dt time scale is different when using ode vs not using ode\n",
    "        decorate(xlabel='Time (Days)',\n",
    "                 ylabel='Lymphocytes')\n",
    "    else:\n",
    "        decorate(xlabel='Time (0.2 Days)',\n",
    "                 ylabel='Lymphocytes')"
   ]
  },
  {
   "cell_type": "code",
   "execution_count": 18,
   "metadata": {},
   "outputs": [],
   "source": [
    "def plotVirons(virons): #plots virons\n",
    "    plot(virons, label = \"V\")\n",
    "    decorate(xlabel='Time (0.2 Days)',\n",
    "             ylabel='Virons')"
   ]
  },
  {
   "cell_type": "code",
   "execution_count": 19,
   "metadata": {},
   "outputs": [
    {
     "name": "stdout",
     "output_type": "stream",
     "text": [
      "           R         L        E        V\n",
      "0        200         0        0      100\n",
      "1     198.92     0.108    0.972       60\n",
      "2    198.276  0.171643  1.48868    55.44\n",
      "3    197.683   0.22972  1.92589  63.0375\n",
      "4     197.01  0.295295  2.40606  76.3403\n",
      "5    196.199  0.374304  2.98032  93.9254\n",
      "6    195.205  0.471018  3.68192  115.962\n",
      "7    193.984  0.589735  4.54243  143.215\n",
      "8    192.485  0.735349  5.59706  176.778\n",
      "9     190.65  0.913601  6.88667  218.008\n",
      "10   188.408   1.13122  8.45869  268.538\n",
      "11   185.679   1.39597  10.3675  330.297\n",
      "12   182.371   1.71672  12.6739  405.527\n",
      "13   178.382   2.10326   15.444  496.794\n",
      "14   173.603   2.56609  18.7468  606.957\n",
      "15    167.92   3.11591  22.6489   739.11\n",
      "16   161.227   3.76283  27.2083  896.444\n",
      "17   153.433   4.51518  32.4639  1082.03\n",
      "18    144.48   5.37794  38.4223   1298.5\n",
      "19   134.365   6.35084  45.0428  1547.54\n",
      "20   123.154   7.42623  52.2214  1829.38\n",
      "21   111.009   8.58734  59.7776  2142.06\n",
      "22   98.1925   9.80723  67.4506  2480.79\n",
      "23   85.0661   11.0494  74.9082  2837.48\n",
      "24   72.0632   12.2702  81.7746  3200.65\n",
      "25   59.6429    13.424  87.6753  3555.88\n",
      "26   48.2286    14.469  92.2927  3887.04\n",
      "27   38.1467   15.3732  95.4164  4178.08\n",
      "28   29.5842    16.119  96.9755  4415.17\n",
      "29   22.5771   16.7039  97.0392  4588.61\n",
      "..       ...       ...      ...      ...\n",
      "91   1.58759   12.0932  3.57287  198.265\n",
      "92   1.62457   12.0045  3.43943  190.417\n",
      "93   1.66182   11.9165  3.31389  183.038\n",
      "94   1.69934   11.8291  3.19576  176.101\n",
      "95   1.73712   11.7423  3.08455  169.576\n",
      "96   1.77514   11.6562  2.97983  163.436\n",
      "97   1.81339   11.5706  2.88119  157.658\n",
      "98   1.85186   11.4857  2.78823  152.219\n",
      "99   1.89053   11.4014   2.7006  147.096\n",
      "100   1.9294   11.3177  2.61797   142.27\n",
      "101  1.96845   11.2347  2.54001  137.721\n",
      "102  2.00768   11.1522  2.46644  133.433\n",
      "103  2.04707   11.0703  2.39697  129.389\n",
      "104  2.08661    10.989  2.33135  125.572\n",
      "105  2.12629   10.9083  2.26933   121.97\n",
      "106  2.16611   10.8282   2.2107  118.569\n",
      "107  2.20605   10.7487  2.15524  115.355\n",
      "108  2.24611   10.6697  2.10275  112.318\n",
      "109  2.28627   10.5914  2.05305  109.446\n",
      "110  2.32654   10.5136  2.00597  106.729\n",
      "111   2.3669   10.4364  1.96134  104.157\n",
      "112  2.40734   10.3597  1.91902  101.721\n",
      "113  2.44786   10.2836  1.87885  99.4128\n",
      "114  2.48846   10.2081  1.84072  97.2247\n",
      "115  2.52912   10.1332  1.80449  95.1492\n",
      "116  2.56983   10.0587  1.77004  93.1792\n",
      "117   2.6106   9.98487  1.73728  91.3084\n",
      "118  2.65142   9.91155   1.7061  89.5307\n",
      "119  2.69228   9.83877  1.67639  87.8404\n",
      "120  2.73318   9.76654  1.64809  86.2321\n",
      "\n",
      "[121 rows x 4 columns]\n"
     ]
    },
    {
     "data": {
      "image/png": "[encoded data removed]",
      "text/plain": [
       "<Figure size 432x288 with 1 Axes>"
      ]
     },
     "metadata": {},
     "output_type": "display_data"
    }
   ],
   "source": [
    "system.set(t_end = 120)\n",
    "frame = runSimulation(system, init, update_func)\n",
    "plotData(frame.R, frame.L, frame.E, frame.V, False)"
   ]
  },
  {
   "cell_type": "code",
   "execution_count": 20,
   "metadata": {},
   "outputs": [
    {
     "data": {
      "image/png": "[encoded data removed]",
      "text/plain": [
       "<Figure size 432x288 with 1 Axes>"
      ]
     },
     "metadata": {},
     "output_type": "display_data"
    }
   ],
   "source": [
    "plotVirons(frame.V)"
   ]
  },
  {
   "cell_type": "code",
   "execution_count": 21,
   "metadata": {},
   "outputs": [
    {
     "name": "stdout",
     "output_type": "stream",
     "text": [
      "                    R          L          E            V\n",
      "0.000000   200.000000   0.000000   0.000000   100.000000\n",
      "0.000289   199.998439   0.000156   0.001405    99.942195\n",
      "0.003181   199.982876   0.001712   0.015403    99.368209\n",
      "0.032102   199.832031   0.016787   0.150379    94.020487\n",
      "0.227930   198.973278   0.102229   0.888903    72.699460\n",
      "0.495024   197.979094   0.200190   1.671985    70.010923\n",
      "0.795024   196.747048   0.320606   2.575559    87.068123\n",
      "1.095024   195.129031   0.478141   3.728275   119.547537\n",
      "1.395024   192.893167   0.695459   5.306026   168.323296\n",
      "1.695024   189.779938   0.997736   7.492467   237.862353\n",
      "1.995024   185.471401   1.415689  10.504521   335.146842\n",
      "2.295024   179.583682   1.986265  14.595605   469.367873\n",
      "2.595024   171.685406   2.750733  20.036255   651.561599\n",
      "2.895024   161.355425   3.748899  27.062735   893.596488\n",
      "3.195024   148.294260   5.008025  35.784274  1205.954767\n",
      "3.495024   132.487210   6.526741  46.054712  1593.942918\n",
      "3.795024   114.375186   8.258367  57.349909  2052.666297\n",
      "4.095024    94.934768  10.103442  68.735152  2562.436555\n",
      "4.395024    75.555982  11.922477  79.009607  3087.598175\n",
      "4.695024    57.698367  13.570604  87.027043  3581.468672\n",
      "4.995024    42.473264  14.939178  92.048516  3997.062447\n",
      "5.295024    30.383650  15.981238  93.925814  4299.152498\n",
      "5.595024    21.340536  16.709192  93.030695  4471.851926\n",
      "5.895024    14.877947  17.172787  90.021515  4518.873231\n",
      "6.195024    10.400526  17.434082  85.604678  4458.078195\n",
      "6.495024     7.352863  17.550485  80.385774  4314.133187\n",
      "6.795024     5.292342  17.567565  74.817130  4112.362895\n",
      "7.095024     3.897222  17.518380  69.205485  3875.017464\n",
      "7.395024     2.946040  17.425661  63.743300  3619.745227\n",
      "7.695024     2.290943  17.304575  58.542259  3359.513803\n",
      "...               ...        ...        ...          ...\n",
      "15.495024    1.208248  13.189295   6.500160   371.254393\n",
      "15.795024    1.253681  13.045841   6.052893   344.764469\n",
      "16.095024    1.300376  12.903859   5.645220   320.634562\n",
      "16.395024    1.348248  12.763340   5.273496   298.647211\n",
      "16.695024    1.397221  12.624276   4.934413   278.605078\n",
      "16.995024    1.447223  12.486657   4.624971   260.329112\n",
      "17.295024    1.498184  12.350475   4.342448   243.656877\n",
      "17.595024    1.550042  12.215720   4.084377   228.441016\n",
      "17.895024    1.602737  12.082381   3.848518   214.547867\n",
      "18.195024    1.656210  11.950448   3.632841   201.856189\n",
      "18.495024    1.710409  11.819912   3.435504   190.256009\n",
      "18.795024    1.765281  11.690761   3.254837   179.647579\n",
      "19.095024    1.820777  11.562986   3.089323   169.940416\n",
      "19.395024    1.876853  11.436574   2.937589   161.052443\n",
      "19.695024    1.933464  11.311517   2.798386   152.909201\n",
      "19.995024    1.990568  11.187801   2.670583   145.443140\n",
      "20.295024    2.048125  11.065417   2.553152   138.592970\n",
      "20.595024    2.106100  10.944354   2.445162   132.303078\n",
      "20.895024    2.164455  10.824599   2.345766   126.522995\n",
      "21.195024    2.223158  10.706142   2.254196   121.206913\n",
      "21.495024    2.282178  10.588971   2.169754   116.313256\n",
      "21.795024    2.341484  10.473076   2.091808   111.804275\n",
      "22.095024    2.401048  10.358444   2.019781   107.645699\n",
      "22.395024    2.460845  10.245064   1.953151   103.806402\n",
      "22.695024    2.520849  10.132925   1.891444   100.258117\n",
      "22.995024    2.581038  10.022015   1.834228    96.975164\n",
      "23.295024    2.641388   9.912323   1.781111    93.934211\n",
      "23.595024    2.701881   9.803836   1.731737    91.114055\n",
      "23.895024    2.762496   9.696544   1.685780    88.495424\n",
      "24.000000    2.783733   9.659281   1.670451    87.623417\n",
      "\n",
      "[85 rows x 4 columns]\n"
     ]
    },
    {
     "data": {
      "image/png": "[encoded data removed]",
      "text/plain": [
       "<Figure size 432x288 with 1 Axes>"
      ]
     },
     "metadata": {},
     "output_type": "display_data"
    }
   ],
   "source": [
    "system.set(t_end = 120/5)#keeps the ode solver with the same time length because dt is 0.2 days in the graph above\n",
    "results, details = run_ode_solver(system, slope_func, max_step = .3)\n",
    "print(results)\n",
    "plotData(results.R, results.L, results.E, results.V, True)"
   ]
  }
 ],
 "metadata": {
  "kernelspec": {
   "display_name": "Python 3",
   "language": "python",
   "name": "python3"
  },
  "language_info": {
   "codemirror_mode": {
    "name": "ipython",
    "version": 3
   },
   "file_extension": ".py",
   "mimetype": "text/x-python",
   "name": "python",
   "nbconvert_exporter": "python",
   "pygments_lexer": "ipython3",
   "version": "3.6.5"
  }
 },
 "nbformat": 4,
 "nbformat_minor": 2
}
